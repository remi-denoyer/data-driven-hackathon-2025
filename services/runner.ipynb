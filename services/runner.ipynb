{
 "cells": [
  {
   "cell_type": "code",
   "execution_count": 1,
   "metadata": {},
   "outputs": [],
   "source": [
    "%load_ext autoreload\n",
    "%autoreload 2"
   ]
  },
  {
   "cell_type": "code",
   "execution_count": null,
   "metadata": {},
   "outputs": [],
   "source": [
    "domain = \"www.pyxo.fr\""
   ]
  },
  {
   "cell_type": "code",
   "execution_count": null,
   "metadata": {},
   "outputs": [
    {
     "data": {
      "text/plain": [
       "{'site_name': 'pyxo.fr',\n",
       " 'is_site_verified': False,\n",
       " 'category': None,\n",
       " 'large_screenshot': 'https://site-images.similarcdn.com/image?url=pyxo.fr&t=1&s=1&h=02dbe130461268a248ffd84edb44a6cebcd457d940e1add6b151ed8607b0058d',\n",
       " 'reach_months': 6,\n",
       " 'data_months': 1,\n",
       " 'global_rank': {'rank': 5203334, 'direction': 159857},\n",
       " 'country_rank': {'country': 250, 'rank': 284678, 'direction': 11370},\n",
       " 'category_rank': {'category': '', 'rank': 0, 'direction': 0},\n",
       " 'title': None,\n",
       " 'description': None,\n",
       " 'redirect_url': None,\n",
       " 'estimated_monthly_visits': {'2024-07-01': 0,\n",
       "  '2024-08-01': 0,\n",
       "  '2024-09-01': 220,\n",
       "  '2024-10-01': 3891,\n",
       "  '2024-11-01': 3246,\n",
       "  '2024-12-01': 1486},\n",
       " 'engagments': {'year': 2024,\n",
       "  'month': 12,\n",
       "  'visits': 1486.0,\n",
       "  'time_on_site': 113.94710973061952,\n",
       "  'page_per_visit': 7.6059915103118305,\n",
       "  'bounce_rate': 0.38414425916778616},\n",
       " 'top_country_shares': [{'country': 250,\n",
       "   'value': 1.0,\n",
       "   'change': -0.5309925945388843}],\n",
       " 'total_countries': 252,\n",
       " 'traffic_sources': {'search': 0.025384968928196146,\n",
       "  'social': 0.01704206523911193,\n",
       "  'paid _referrals': 0.0037660911812225834,\n",
       "  'referrals': 0.025384968928196146,\n",
       "  'mail': 0.0009601532570157922,\n",
       "  'direct': 0.9274617524662574},\n",
       " 'referrals_ratio': 0.025384968928196146,\n",
       " 'top_referring': [],\n",
       " 'total_referring': 0,\n",
       " 'top_destinations': [],\n",
       " 'total_destinations': 0,\n",
       " 'search_ratio': 0.025384968928196146,\n",
       " 'top_organic_keywords': [],\n",
       " 'top_paid_keywords': [],\n",
       " 'organic_keywords_rolling_unique_count': 0,\n",
       " 'paid_keywords_rolling_unique_count': 0,\n",
       " 'organic_search_share': 1.0,\n",
       " 'paid_search_share': 0.0,\n",
       " 'social_ratio': 0.01704206523911193,\n",
       " 'top_social': [],\n",
       " 'display_ads_ratio': 0.0037660911812225834,\n",
       " 'top_publishers': [],\n",
       " 'top_ad_networks': [{'site': 'Unidentified Networks',\n",
       "   'value': 1.0,\n",
       "   'change': 0.0}],\n",
       " 'incoming_ads_rolling_unique_count': 0,\n",
       " 'also_visited_unique_count': 0,\n",
       " 'similar_sites': [],\n",
       " 'similar_sites_by_rank': [],\n",
       " 'mobile_apps': {'0 com.pyxo.app': {'key': 0,\n",
       "   'app_id': 'com.pyxo.app',\n",
       "   'title': 'Pyxo',\n",
       "   'cover': 'https://play-lh.googleusercontent.com/1EOM7Z2dIoF8WaY7OZmO6Ol-neePrm3XcWmHk0hV3HN2VjDw5I9BMUaRe_ZYX7fZCbs=s180',\n",
       "   'author': 'Pyxo',\n",
       "   'category': 'Food & Drink',\n",
       "   'price': 'Free',\n",
       "   'rating': 5.0,\n",
       "   'rating_count': 8,\n",
       "   'valid': True},\n",
       "  '0 com.pyxodeposit': {'key': 0,\n",
       "   'app_id': 'com.pyxodeposit',\n",
       "   'title': 'Pyxo Pro',\n",
       "   'cover': 'https://play-lh.googleusercontent.com/JfuVZ9YQrxrx9sxKgUyTY_QSlkQIW-SGons1e4pXrnQ9ESZmjcecOEhYAlbFHwmvbhk=s180',\n",
       "   'author': 'Pyxo',\n",
       "   'category': 'Food & Drink',\n",
       "   'price': 'Free',\n",
       "   'rating': 0.0,\n",
       "   'rating_count': 0,\n",
       "   'valid': True},\n",
       "  '1 1605807176': {'key': 1,\n",
       "   'app_id': '1605807176',\n",
       "   'title': 'Pyxo',\n",
       "   'cover': 'https://is1-ssl.mzstatic.com/image/thumb/Purple126/v4/f8/cf/36/f8cf3632-ace5-3600-649c-aad826280fcf/AppIcon-0-0-1x_U007emarketing-0-0-0-7-0-0-sRGB-0-0-0-GLES2_U002c0-512MB-85-220-0-0.png/175x175bb.jpg',\n",
       "   'author': 'Pyxo',\n",
       "   'category': 'Lifestyle',\n",
       "   'price': 'Free',\n",
       "   'rating': 0.0,\n",
       "   'rating_count': 0,\n",
       "   'valid': True},\n",
       "  '1 1629003003': {'key': 1,\n",
       "   'app_id': '1629003003',\n",
       "   'title': 'Pyxo Pro',\n",
       "   'cover': 'https://is1-ssl.mzstatic.com/image/thumb/Purple221/v4/7d/3e/56/7d3e56d1-d2e9-3f67-49a1-9c8ec6756685/AppIcon-0-0-1x_U007epad-0-10-0-85-220.png/175x175bb.jpg',\n",
       "   'author': 'Pyxo',\n",
       "   'category': 'Lifestyle',\n",
       "   'price': 'Free',\n",
       "   'rating': 0.0,\n",
       "   'rating_count': 0,\n",
       "   'valid': True}},\n",
       " 'daily_visits_min_date': '2024-07-01',\n",
       " 'daily_visits_max_date': '2024-12-31',\n",
       " 'top_categories': [],\n",
       " 'top_also_visited': [],\n",
       " 'tags': []}"
      ]
     },
     "execution_count": 6,
     "metadata": {},
     "output_type": "execute_result"
    }
   ],
   "source": [
    "from similar_web import get_website_data\n",
    "\n",
    "data = get_website_data(domain)\n",
    "data"
   ]
  },
  {
   "cell_type": "code",
   "execution_count": null,
   "metadata": {},
   "outputs": [],
   "source": [
    "from similar_web import get_keywords\n",
    "\n",
    "data = get_keywords(domain)\n",
    "data"
   ]
  }
 ],
 "metadata": {
  "kernelspec": {
   "display_name": ".venv",
   "language": "python",
   "name": "python3"
  },
  "language_info": {
   "codemirror_mode": {
    "name": "ipython",
    "version": 3
   },
   "file_extension": ".py",
   "mimetype": "text/x-python",
   "name": "python",
   "nbconvert_exporter": "python",
   "pygments_lexer": "ipython3",
   "version": "3.13.1"
  }
 },
 "nbformat": 4,
 "nbformat_minor": 2
}
