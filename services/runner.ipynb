{
 "cells": [
  {
   "cell_type": "code",
   "execution_count": 1,
   "metadata": {},
   "outputs": [],
   "source": [
    "%load_ext autoreload\n",
    "%autoreload 2"
   ]
  },
  {
   "cell_type": "code",
   "execution_count": 2,
   "metadata": {},
   "outputs": [],
   "source": [
    "domain = \"www.pyxo.fr\""
   ]
  },
  {
   "cell_type": "code",
   "execution_count": 3,
   "metadata": {},
   "outputs": [
    {
     "data": {
      "text/plain": [
       "{'error': \"An error occurred: name 'HEADERS' is not defined\"}"
      ]
     },
     "execution_count": 3,
     "metadata": {},
     "output_type": "execute_result"
    }
   ],
   "source": [
    "from similar_web import get_website_data\n",
    "\n",
    "data = get_website_data(domain)\n",
    "data"
   ]
  },
  {
   "cell_type": "code",
   "execution_count": 4,
   "metadata": {},
   "outputs": [
    {
     "data": {
      "text/plain": [
       "{'error': 'HTTP error occurred: 400 Client Error: Bad Request for url: https://api.similarweb.com/v4/website-analysis/keywords/?url=&country=world&start_date=2023-01&end_date=2025-01&api_key=5145365ab2a741a794892d13ec3ce7ea'}"
      ]
     },
     "execution_count": 4,
     "metadata": {},
     "output_type": "execute_result"
    }
   ],
   "source": [
    "from similar_web import get_keywords\n",
    "\n",
    "data = get_keywords(domain)\n",
    "data"
   ]
  },
  {
   "cell_type": "code",
   "execution_count": 3,
   "metadata": {},
   "outputs": [
    {
     "data": {
      "text/plain": [
       "'urn:harmonic:company:3536917'"
      ]
     },
     "execution_count": 3,
     "metadata": {},
     "output_type": "execute_result"
    }
   ],
   "source": [
    "from harmonic import get_company_urn\n",
    "\n",
    "get_company_urn(domain)"
   ]
  },
  {
   "cell_type": "code",
   "execution_count": 5,
   "metadata": {},
   "outputs": [
    {
     "data": {
      "text/plain": [
       "[{'entity_urn': 'urn:harmonic:company:773437',\n",
       "  'id': 773437,\n",
       "  'initialized_date': '2020-10-01T16:19:43Z',\n",
       "  'website': 'rheaply.com',\n",
       "  'customer_type': 'B2B',\n",
       "  'name': 'Rheaply',\n",
       "  'description': 'Rheaply offers a B2B SaaS platform that combines digital marketplaces with inventory management systems to facilitate resource reuse and promote a circular economy. The platform allows organizations to track assets, manage surplus materials, and produce impact reports to align with environmental, social, and governance (ESG) goals.',\n",
       "  'external_description': 'Rheaply is a B2B SaaS asset management technology that scales reuse and the circular economy within organizations, helping lower procurement and storage costs and reducing waste.',\n",
       "  'founding_date': '2015-01-01T00:00:00Z',\n",
       "  'headcount': 45,\n",
       "  'ownership_status': 'PRIVATE',\n",
       "  'company_type': 'STARTUP',\n",
       "  'stage': 'SEED',\n",
       "  'country': 'United States',\n",
       "  'funding': {'funding_stage': 'SEED',\n",
       "   'funding_total': 32835200,\n",
       "   'last_funding_at': '2023-03-15T00:00:00Z',\n",
       "   'last_funding_total': 15200.0,\n",
       "   'last_funding_type': 'SERIES_UNKNOWN',\n",
       "   'num_funding_rounds': 7},\n",
       "  'highlights': [{'category': 'Venture Backed',\n",
       "    'date_added': None,\n",
       "    'text': 'Backed By 100 Black Angels + Allies Fund, Bradley Horowitz, Citi Impact Fund, Concentric Equity Partners, Emerson Collective, Energy Impact Partners, HPA, High Alpha, Hyde Park Angels, Joe Thomas, John Doerr, M25, MCJ, Microsoft’s Climate Innovation Fund, Morgan Stanley Multicultural Innovation Lab, PSP Partners, Revolution, Revolution’s Rise of the Rest Seed Fund, Salesforce Ventures, Solve Innovation Future, Techstars, Walter Winshall, Westbound Equity Partners, Whitehead Institute',\n",
       "    'company_urn': None}],\n",
       "  'funding_attribute_null_status': 'EXISTS_BUT_UNDISCLOSED',\n",
       "  'traction_metrics': {'facebook_like_count': 938.0,\n",
       "   'external_facebook_like_count': 938.0,\n",
       "   'facebook_follower_count': 983.0,\n",
       "   'external_facebook_follower_count': 983.0,\n",
       "   'facebook_following_count': None,\n",
       "   'external_facebook_following_count': None,\n",
       "   'linkedin_follower_count': 8646.0,\n",
       "   'external_linkedin_follower_count': 8646.0,\n",
       "   'instagram_follower_count': 1605.0,\n",
       "   'external_instagram_follower_count': 1605.0,\n",
       "   'twitter_follower_count': 1820.0,\n",
       "   'external_twitter_follower_count': 1820.0,\n",
       "   'headcount': 45.0,\n",
       "   'corrected_headcount': 45.0,\n",
       "   'external_headcount': 45.0,\n",
       "   'funding_total': 32835200.0,\n",
       "   'web_traffic': 18370.0,\n",
       "   'headcount_advisor': 6.0,\n",
       "   'headcount_customer_success': 4.0,\n",
       "   'headcount_data': 1.0,\n",
       "   'headcount_design': 2.0,\n",
       "   'headcount_engineering': 8.0,\n",
       "   'headcount_finance': 2.0,\n",
       "   'headcount_legal': None,\n",
       "   'headcount_marketing': 5.0,\n",
       "   'headcount_operations': 5.0,\n",
       "   'headcount_other': 2.0,\n",
       "   'headcount_people': 1.0,\n",
       "   'headcount_product': 3.0,\n",
       "   'headcount_sales': 9.0,\n",
       "   'headcount_support': None}}]"
      ]
     },
     "execution_count": 5,
     "metadata": {},
     "output_type": "execute_result"
    }
   ],
   "source": [
    "from harmonic import list_enrich_similar_companies_from_domain\n",
    "\n",
    "list_enrich_similar_companies_from_domain(domain)"
   ]
  },
  {
   "cell_type": "code",
   "execution_count": null,
   "metadata": {},
   "outputs": [],
   "source": []
  }
 ],
 "metadata": {
  "kernelspec": {
   "display_name": "venv",
   "language": "python",
   "name": "python3"
  },
  "language_info": {
   "codemirror_mode": {
    "name": "ipython",
    "version": 3
   },
   "file_extension": ".py",
   "mimetype": "text/x-python",
   "name": "python",
   "nbconvert_exporter": "python",
   "pygments_lexer": "ipython3",
   "version": "3.11.11"
  }
 },
 "nbformat": 4,
 "nbformat_minor": 2
}
