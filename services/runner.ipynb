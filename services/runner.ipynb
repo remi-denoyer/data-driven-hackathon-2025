{
 "cells": [
  {
   "cell_type": "code",
   "execution_count": null,
   "metadata": {},
   "outputs": [],
   "source": [
    "%load_ext autoreload\n",
    "%autoreload 2\n",
    "%cd .."
   ]
  },
  {
   "cell_type": "code",
   "execution_count": null,
   "metadata": {},
   "outputs": [],
   "source": [
    "domain = \"www.alan.com\""
   ]
  },
  {
   "cell_type": "code",
   "execution_count": null,
   "metadata": {},
   "outputs": [],
   "source": [
    "from services.similar_web import get_website_data\n",
    "\n",
    "data = get_website_data(domain)\n",
    "data"
   ]
  },
  {
   "cell_type": "code",
   "execution_count": null,
   "metadata": {},
   "outputs": [],
   "source": [
    "from services.similar_web import get_keywords\n",
    "\n",
    "data = get_keywords(domain)\n",
    "data"
   ]
  },
  {
   "cell_type": "code",
   "execution_count": null,
   "metadata": {},
   "outputs": [],
   "source": [
    "from services.similar_web import get_traffic_sources_overview\n",
    "\n",
    "data = get_traffic_sources_overview(domain)\n",
    "data"
   ]
  },
  {
   "cell_type": "code",
   "execution_count": null,
   "metadata": {},
   "outputs": [],
   "source": [
    "from services.predict_lead import get_company_data\n",
    "\n",
    "get_company_data(domain)"
   ]
  },
  {
   "cell_type": "code",
   "execution_count": null,
   "metadata": {},
   "outputs": [],
   "source": [
    "from services.predict_lead import get_job_openings\n",
    "\n",
    "\n",
    "data = get_job_openings(domain)\n",
    "data"
   ]
  },
  {
   "cell_type": "code",
   "execution_count": null,
   "metadata": {},
   "outputs": [],
   "source": [
    "from services.predict_lead import get_financing_events\n",
    "\n",
    "data = get_financing_events(domain)\n",
    "data"
   ]
  },
  {
   "cell_type": "code",
   "execution_count": null,
   "metadata": {},
   "outputs": [],
   "source": [
    "from services.predict_lead import get_connections\n",
    "\n",
    "data = get_connections(domain)\n",
    "data"
   ]
  },
  {
   "cell_type": "code",
   "execution_count": null,
   "metadata": {},
   "outputs": [],
   "source": [
    "from services.harmonic import list_enrich_similar_companies_from_domain\n",
    "\n",
    "list_enrich_similar_companies_from_domain(domain)"
   ]
  },
  {
   "cell_type": "code",
   "execution_count": null,
   "metadata": {},
   "outputs": [],
   "source": [
    "from services.similar_web import get_similar_web_data\n",
    "\n",
    "get_similar_web_data(domain)"
   ]
  },
  {
   "cell_type": "code",
   "execution_count": null,
   "metadata": {},
   "outputs": [],
   "source": [
    "from services.predict_lead import get_predict_lead_data\n",
    "\n",
    "get_predict_lead_data(domain)"
   ]
  },
  {
   "cell_type": "code",
   "execution_count": null,
   "metadata": {},
   "outputs": [],
   "source": [
    "from services.get_competitors_enriched import get_competitors_enriched\n",
    "domain = \"perplexity.ai\"\n",
    "data = get_competitors_enriched(domain)\n",
    "data"
   ]
  },
  {
   "cell_type": "code",
   "execution_count": null,
   "metadata": {},
   "outputs": [],
   "source": [
    "from services.open_ai import generate_market_analysis\n",
    "\n",
    "market_analysis = generate_market_analysis(data)\n",
    "market_analysis\n"
   ]
  },
  {
   "cell_type": "code",
   "execution_count": null,
   "metadata": {},
   "outputs": [],
   "source": [
    "enriched_companies = []\n",
    "companies_dict = {company[\"website\"]: company for company in data}\n",
    "analysis_dict = {company[\"website\"]: company for company in market_analysis[\"companies\"] if not company[\"outlier\"]}\n",
    "\n",
    "for website in set(companies_dict.keys()) | set(analysis_dict.keys()):\n",
    "    company_data = companies_dict.get(website, {})\n",
    "    analysis_data = analysis_dict.get(website, {})\n",
    "    merged = {**company_data, **analysis_data}\n",
    "    enriched_companies.append(merged)\n",
    "\n",
    "enriched_companies"
   ]
  },
  {
   "cell_type": "code",
   "execution_count": null,
   "metadata": {},
   "outputs": [],
   "source": [
    "def field_selector(data_array: list, fields: list) -> list:\n",
    "    \"\"\"\n",
    "    Filter JSON objects to only include specified fields.\n",
    "\n",
    "    Args:\n",
    "        data_array (list): List of dictionaries containing data\n",
    "        fields (list): List of field names to keep\n",
    "\n",
    "    Returns:\n",
    "        list: List of filtered dictionaries containing only specified fields\n",
    "    \"\"\"\n",
    "    return [{key: item[key] for key in fields if key in item} for item in data_array]"
   ]
  },
  {
   "cell_type": "code",
   "execution_count": null,
   "metadata": {},
   "outputs": [],
   "source": [
    "field_selector(enriched_companies)"
   ]
  }
 ],
 "metadata": {
  "kernelspec": {
   "display_name": ".venv",
   "language": "python",
   "name": "python3"
  },
  "language_info": {
   "codemirror_mode": {
    "name": "ipython",
    "version": 3
   },
   "file_extension": ".py",
   "mimetype": "text/x-python",
   "name": "python",
   "nbconvert_exporter": "python",
   "pygments_lexer": "ipython3",
   "version": "3.13.1"
  }
 },
 "nbformat": 4,
 "nbformat_minor": 2
}
