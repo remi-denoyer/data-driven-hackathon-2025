{
 "cells": [
  {
   "cell_type": "code",
   "execution_count": null,
   "metadata": {},
   "outputs": [],
   "source": [
    "%load_ext autoreload\n",
    "%autoreload 2\n",
    "%cd .."
   ]
  },
  {
   "cell_type": "code",
   "execution_count": null,
   "metadata": {},
   "outputs": [],
   "source": [
    "domain = \"www.alan.com\""
   ]
  },
  {
   "cell_type": "code",
   "execution_count": null,
   "metadata": {},
   "outputs": [],
   "source": [
    "from services.similar_web import get_website_data\n",
    "\n",
    "data = get_website_data(domain)\n",
    "data"
   ]
  },
  {
   "cell_type": "code",
   "execution_count": null,
   "metadata": {},
   "outputs": [],
   "source": [
    "from services.similar_web import get_keywords\n",
    "\n",
    "data = get_keywords(domain)\n",
    "data"
   ]
  },
  {
   "cell_type": "code",
   "execution_count": null,
   "metadata": {},
   "outputs": [],
   "source": [
    "from services.similar_web import get_traffic_sources_overview\n",
    "\n",
    "data = get_traffic_sources_overview(domain)\n",
    "data"
   ]
  },
  {
   "cell_type": "code",
   "execution_count": null,
   "metadata": {},
   "outputs": [],
   "source": [
    "from services.predict_lead import get_company_data\n",
    "\n",
    "get_company_data(domain)"
   ]
  },
  {
   "cell_type": "code",
   "execution_count": null,
   "metadata": {},
   "outputs": [],
   "source": [
    "from services.predict_lead import get_job_openings\n",
    "\n",
    "\n",
    "data = get_job_openings(domain)\n",
    "data"
   ]
  },
  {
   "cell_type": "code",
   "execution_count": null,
   "metadata": {},
   "outputs": [],
   "source": [
    "from services.predict_lead import get_financing_events\n",
    "\n",
    "data = get_financing_events(domain)\n",
    "data"
   ]
  },
  {
   "cell_type": "code",
   "execution_count": null,
   "metadata": {},
   "outputs": [],
   "source": [
    "from services.predict_lead import get_connections\n",
    "\n",
    "data = get_connections(domain)\n",
    "data"
   ]
  },
  {
   "cell_type": "code",
   "execution_count": null,
   "metadata": {},
   "outputs": [],
   "source": [
    "from services.harmonic import list_enrich_similar_companies_from_domain\n",
    "\n",
    "list_enrich_similar_companies_from_domain(domain)"
   ]
  },
  {
   "cell_type": "code",
   "execution_count": null,
   "metadata": {},
   "outputs": [],
   "source": [
    "from services.similar_web import get_similar_web_data\n",
    "\n",
    "get_similar_web_data(domain)"
   ]
  },
  {
   "cell_type": "code",
   "execution_count": null,
   "metadata": {},
   "outputs": [],
   "source": [
    "from services.predict_lead import get_predict_lead_data\n",
    "\n",
    "get_predict_lead_data(domain)"
   ]
  },
  {
   "cell_type": "code",
   "execution_count": null,
   "metadata": {},
   "outputs": [],
   "source": [
    "from services.get_competitors_enriched import get_competitors_enriched\n",
    "domain = \"perplexity.ai\"\n",
    "data = get_competitors_enriched(domain)\n",
    "data"
   ]
  },
  {
   "cell_type": "code",
   "execution_count": null,
   "metadata": {},
   "outputs": [],
   "source": [
    "from services.open_ai import generate_market_analysis\n",
    "\n",
    "market_analysis = generate_market_analysis(data)\n",
    "market_analysis\n"
   ]
  },
  {
   "cell_type": "code",
   "execution_count": 39,
   "metadata": {},
   "outputs": [
    {
     "data": {
      "text/plain": [
       "[{'name': 'Abacus.AI', 'company_type': 'STARTUP', 'funding_total': 90250000},\n",
       " {'name': 'Epistemic AI',\n",
       "  'company_type': 'STARTUP',\n",
       "  'funding_total': 11888994},\n",
       " {'name': 'Connecty AI', 'company_type': 'STARTUP', 'funding_total': 1800000},\n",
       " {'name': 'Experfy', 'company_type': 'STARTUP', 'funding_total': 1818000},\n",
       " {'name': 'Protopia AI', 'company_type': 'STARTUP', 'funding_total': 25750000},\n",
       " {'name': 'Vurvey', 'company_type': 'STARTUP', 'funding_total': 3000000},\n",
       " {'name': 'Sema4.ai', 'company_type': 'STARTUP', 'funding_total': 30500000},\n",
       " {'name': 'proem', 'company_type': 'STARTUP', 'funding_total': 2183704},\n",
       " {'name': 'Vectara', 'company_type': 'STARTUP', 'funding_total': 73500000},\n",
       " {'name': 'Perceive Now, Inc.',\n",
       "  'company_type': 'STARTUP',\n",
       "  'funding_total': 150000},\n",
       " {'name': 'Pryon', 'company_type': 'STARTUP', 'funding_total': 159127991},\n",
       " {'name': 'Fentech', 'company_type': 'STARTUP', 'funding_total': 1266470},\n",
       " {'name': 'Phacet', 'company_type': 'STARTUP', 'funding_total': 4449660},\n",
       " {'name': '913.ai', 'company_type': 'STARTUP', 'funding_total': 431146},\n",
       " {'name': 'CogniSwitch Inc.',\n",
       "  'company_type': 'STARTUP',\n",
       "  'funding_total': 100000},\n",
       " {'name': 'Proofs', 'company_type': 'STARTUP', 'funding_total': 2600000},\n",
       " {'name': 'Elemental Cognition',\n",
       "  'company_type': 'STARTUP',\n",
       "  'funding_total': 126951153},\n",
       " {'name': 'STYRK AI', 'company_type': 'STARTUP', 'funding_total': 1000000},\n",
       " {'name': 'Altis Labs', 'company_type': 'STARTUP', 'funding_total': 6000000},\n",
       " {'name': 'Sapien AI', 'company_type': 'STARTUP', 'funding_total': None},\n",
       " {'name': 'LightOn', 'company_type': 'STARTUP', 'funding_total': 15105408},\n",
       " {'name': 'Cognida.ai', 'company_type': 'STARTUP', 'funding_total': 4702647},\n",
       " {'name': 'Periculum', 'company_type': 'STARTUP', 'funding_total': 1692815},\n",
       " {'name': 'AutoGPT', 'company_type': 'STARTUP', 'funding_total': 12000000},\n",
       " {'name': 'Upstage', 'company_type': 'STARTUP', 'funding_total': 125890148},\n",
       " {'name': 'Seek AI', 'company_type': 'STARTUP', 'funding_total': 12510000},\n",
       " {'name': 'Zep AI (YC W24)',\n",
       "  'company_type': 'STARTUP',\n",
       "  'funding_total': 2303043},\n",
       " {'name': 'ZeroEntropy', 'company_type': 'STARTUP', 'funding_total': 500000},\n",
       " {'name': 'Nextnet', 'company_type': 'STARTUP', 'funding_total': 1300000},\n",
       " {'name': 'Propheus', 'company_type': 'UNKNOWN', 'funding_total': 0}]"
      ]
     },
     "execution_count": 39,
     "metadata": {},
     "output_type": "execute_result"
    }
   ],
   "source": [
    "from companies import list_companies\n",
    "\n",
    "list_companies(\"perplexity.ai\")"
   ]
  },
  {
   "cell_type": "code",
   "execution_count": null,
   "metadata": {},
   "outputs": [],
   "source": []
  }
 ],
 "metadata": {
  "kernelspec": {
   "display_name": ".venv",
   "language": "python",
   "name": "python3"
  },
  "language_info": {
   "codemirror_mode": {
    "name": "ipython",
    "version": 3
   },
   "file_extension": ".py",
   "mimetype": "text/x-python",
   "name": "python",
   "nbconvert_exporter": "python",
   "pygments_lexer": "ipython3",
   "version": "3.13.1"
  }
 },
 "nbformat": 4,
 "nbformat_minor": 2
}
